{
 "cells": [
  {
   "cell_type": "code",
   "execution_count": 29,
   "metadata": {},
   "outputs": [
    {
     "data": {
      "text/html": [
       "\n",
       "<div id=\"altair-viz-0d219176b0c845aa8194d5e34bf9e62b\"></div>\n",
       "<script type=\"text/javascript\">\n",
       "  (function(spec, embedOpt){\n",
       "    let outputDiv = document.currentScript.previousElementSibling;\n",
       "    if (outputDiv.id !== \"altair-viz-0d219176b0c845aa8194d5e34bf9e62b\") {\n",
       "      outputDiv = document.getElementById(\"altair-viz-0d219176b0c845aa8194d5e34bf9e62b\");\n",
       "    }\n",
       "    const paths = {\n",
       "      \"vega\": \"https://cdn.jsdelivr.net/npm//vega@5?noext\",\n",
       "      \"vega-lib\": \"https://cdn.jsdelivr.net/npm//vega-lib?noext\",\n",
       "      \"vega-lite\": \"https://cdn.jsdelivr.net/npm//vega-lite@4.8.1?noext\",\n",
       "      \"vega-embed\": \"https://cdn.jsdelivr.net/npm//vega-embed@6?noext\",\n",
       "    };\n",
       "\n",
       "    function loadScript(lib) {\n",
       "      return new Promise(function(resolve, reject) {\n",
       "        var s = document.createElement('script');\n",
       "        s.src = paths[lib];\n",
       "        s.async = true;\n",
       "        s.onload = () => resolve(paths[lib]);\n",
       "        s.onerror = () => reject(`Error loading script: ${paths[lib]}`);\n",
       "        document.getElementsByTagName(\"head\")[0].appendChild(s);\n",
       "      });\n",
       "    }\n",
       "\n",
       "    function showError(err) {\n",
       "      outputDiv.innerHTML = `<div class=\"error\" style=\"color:red;\">${err}</div>`;\n",
       "      throw err;\n",
       "    }\n",
       "\n",
       "    function displayChart(vegaEmbed) {\n",
       "      vegaEmbed(outputDiv, spec, embedOpt)\n",
       "        .catch(err => showError(`Javascript Error: ${err.message}<br>This usually means there's a typo in your chart specification. See the javascript console for the full traceback.`));\n",
       "    }\n",
       "\n",
       "    if(typeof define === \"function\" && define.amd) {\n",
       "      requirejs.config({paths});\n",
       "      require([\"vega-embed\"], displayChart, err => showError(`Error loading script: ${err.message}`));\n",
       "    } else if (typeof vegaEmbed === \"function\") {\n",
       "      displayChart(vegaEmbed);\n",
       "    } else {\n",
       "      loadScript(\"vega\")\n",
       "        .then(() => loadScript(\"vega-lite\"))\n",
       "        .then(() => loadScript(\"vega-embed\"))\n",
       "        .catch(showError)\n",
       "        .then(() => displayChart(vegaEmbed));\n",
       "    }\n",
       "  })({\"config\": {\"view\": {\"continuousWidth\": 400, \"continuousHeight\": 300}}, \"data\": {\"name\": \"data-f94349589ca24940c8f1afb9ace5b05a\"}, \"mark\": {\"type\": \"area\", \"point\": true}, \"encoding\": {\"x\": {\"type\": \"quantitative\", \"field\": \"outcome_level\", \"title\": \"Length [cm]\"}, \"y\": {\"type\": \"quantitative\", \"field\": \"n\", \"title\": \"n\"}}, \"height\": 300, \"width\": 300, \"$schema\": \"https://vega.github.io/schema/vega-lite/v4.8.1.json\", \"datasets\": {\"data-f94349589ca24940c8f1afb9ace5b05a\": [{\"category\": \"CC388\", \"level\": 1, \"outcome\": \"DD14\", \"outcome_level\": 9.0, \"n\": \"1\"}, {\"category\": \"CC388\", \"level\": 1, \"outcome\": \"DD14\", \"outcome_level\": 26.0, \"n\": \"1\"}, {\"category\": \"CC388\", \"level\": 1, \"outcome\": \"DD14\", \"outcome_level\": 32.0, \"n\": \"1\"}, {\"category\": \"CC388\", \"level\": 1, \"outcome\": \"DD14\", \"outcome_level\": 33.0, \"n\": \"1\"}, {\"category\": \"CC388\", \"level\": 1, \"outcome\": \"DD14\", \"outcome_level\": 34.0, \"n\": \"1\"}, {\"category\": \"CC388\", \"level\": 1, \"outcome\": \"DD14\", \"outcome_level\": 35.0, \"n\": \"1\"}, {\"category\": \"CC388\", \"level\": 1, \"outcome\": \"DD14\", \"outcome_level\": 36.0, \"n\": \"1\"}, {\"category\": \"CC388\", \"level\": 1, \"outcome\": \"DD14\", \"outcome_level\": 37.0, \"n\": \"1\"}, {\"category\": \"CC388\", \"level\": 1, \"outcome\": \"DD14\", \"outcome_level\": 38.0, \"n\": \"1\"}, {\"category\": \"CC388\", \"level\": 1, \"outcome\": \"DD14\", \"outcome_level\": 39.0, \"n\": \"1\"}, {\"category\": \"CC388\", \"level\": 1, \"outcome\": \"DD14\", \"outcome_level\": 40.0, \"n\": \"10\"}, {\"category\": \"CC388\", \"level\": 1, \"outcome\": \"DD14\", \"outcome_level\": 41.0, \"n\": \"20\"}, {\"category\": \"CC388\", \"level\": 1, \"outcome\": \"DD14\", \"outcome_level\": 42.0, \"n\": \"20\"}, {\"category\": \"CC388\", \"level\": 1, \"outcome\": \"DD14\", \"outcome_level\": 43.0, \"n\": \"30\"}, {\"category\": \"CC388\", \"level\": 1, \"outcome\": \"DD14\", \"outcome_level\": 44.0, \"n\": \"50\"}, {\"category\": \"CC388\", \"level\": 1, \"outcome\": \"DD14\", \"outcome_level\": 45.0, \"n\": \"110\"}, {\"category\": \"CC388\", \"level\": 1, \"outcome\": \"DD14\", \"outcome_level\": 46.0, \"n\": \"170\"}, {\"category\": \"CC388\", \"level\": 1, \"outcome\": \"DD14\", \"outcome_level\": 47.0, \"n\": \"340\"}, {\"category\": \"CC388\", \"level\": 1, \"outcome\": \"DD14\", \"outcome_level\": 48.0, \"n\": \"600\"}, {\"category\": \"CC388\", \"level\": 1, \"outcome\": \"DD14\", \"outcome_level\": 49.0, \"n\": \"950\"}, {\"category\": \"CC388\", \"level\": 1, \"outcome\": \"DD14\", \"outcome_level\": 50.0, \"n\": \"1570\"}, {\"category\": \"CC388\", \"level\": 1, \"outcome\": \"DD14\", \"outcome_level\": 51.0, \"n\": \"1370\"}, {\"category\": \"CC388\", \"level\": 1, \"outcome\": \"DD14\", \"outcome_level\": 52.0, \"n\": \"1030\"}, {\"category\": \"CC388\", \"level\": 1, \"outcome\": \"DD14\", \"outcome_level\": 53.0, \"n\": \"640\"}, {\"category\": \"CC388\", \"level\": 1, \"outcome\": \"DD14\", \"outcome_level\": 54.0, \"n\": \"350\"}, {\"category\": \"CC388\", \"level\": 1, \"outcome\": \"DD14\", \"outcome_level\": 55.0, \"n\": \"110\"}, {\"category\": \"CC388\", \"level\": 1, \"outcome\": \"DD14\", \"outcome_level\": 56.0, \"n\": \"30\"}, {\"category\": \"CC388\", \"level\": 1, \"outcome\": \"DD14\", \"outcome_level\": 57.0, \"n\": \"10\"}, {\"category\": \"CC388\", \"level\": 1, \"outcome\": \"DD14\", \"outcome_level\": 58.0, \"n\": \"1\"}, {\"category\": \"CC388\", \"level\": 1, \"outcome\": \"DD14\", \"outcome_level\": 63.0, \"n\": \"1\"}, {\"category\": \"CC388\", \"level\": 1, \"outcome\": \"DD14\", \"outcome_level\": 70.0, \"n\": \"1\"}, {\"category\": \"CC388\", \"level\": 1, \"outcome\": \"DD14\", \"outcome_level\": 31.5, \"n\": \"1\"}, {\"category\": \"CC388\", \"level\": 1, \"outcome\": \"DD14\", \"outcome_level\": 34.5, \"n\": \"1\"}, {\"category\": \"CC388\", \"level\": 1, \"outcome\": \"DD14\", \"outcome_level\": 38.5, \"n\": \"1\"}, {\"category\": \"CC388\", \"level\": 1, \"outcome\": \"DD14\", \"outcome_level\": 39.5, \"n\": \"1\"}, {\"category\": \"CC388\", \"level\": 1, \"outcome\": \"DD14\", \"outcome_level\": 40.5, \"n\": \"1\"}, {\"category\": \"CC388\", \"level\": 1, \"outcome\": \"DD14\", \"outcome_level\": 41.5, \"n\": \"1\"}, {\"category\": \"CC388\", \"level\": 1, \"outcome\": \"DD14\", \"outcome_level\": 42.5, \"n\": \"1\"}, {\"category\": \"CC388\", \"level\": 1, \"outcome\": \"DD14\", \"outcome_level\": 43.5, \"n\": \"1\"}, {\"category\": \"CC388\", \"level\": 1, \"outcome\": \"DD14\", \"outcome_level\": 44.5, \"n\": \"1\"}, {\"category\": \"CC388\", \"level\": 1, \"outcome\": \"DD14\", \"outcome_level\": 45.5, \"n\": \"1\"}, {\"category\": \"CC388\", \"level\": 1, \"outcome\": \"DD14\", \"outcome_level\": 46.5, \"n\": \"1\"}, {\"category\": \"CC388\", \"level\": 1, \"outcome\": \"DD14\", \"outcome_level\": 47.5, \"n\": \"1\"}, {\"category\": \"CC388\", \"level\": 1, \"outcome\": \"DD14\", \"outcome_level\": 48.4, \"n\": \"1\"}, {\"category\": \"CC388\", \"level\": 1, \"outcome\": \"DD14\", \"outcome_level\": 48.5, \"n\": \"1\"}, {\"category\": \"CC388\", \"level\": 1, \"outcome\": \"DD14\", \"outcome_level\": 49.5, \"n\": \"10\"}, {\"category\": \"CC388\", \"level\": 1, \"outcome\": \"DD14\", \"outcome_level\": 49.9, \"n\": \"1\"}, {\"category\": \"CC388\", \"level\": 1, \"outcome\": \"DD14\", \"outcome_level\": 50.3, \"n\": \"1\"}, {\"category\": \"CC388\", \"level\": 1, \"outcome\": \"DD14\", \"outcome_level\": 50.5, \"n\": \"10\"}, {\"category\": \"CC388\", \"level\": 1, \"outcome\": \"DD14\", \"outcome_level\": 50.6, \"n\": \"1\"}, {\"category\": \"CC388\", \"level\": 1, \"outcome\": \"DD14\", \"outcome_level\": 51.5, \"n\": \"10\"}, {\"category\": \"CC388\", \"level\": 1, \"outcome\": \"DD14\", \"outcome_level\": 51.6, \"n\": \"1\"}, {\"category\": \"CC388\", \"level\": 1, \"outcome\": \"DD14\", \"outcome_level\": 52.3, \"n\": \"1\"}, {\"category\": \"CC388\", \"level\": 1, \"outcome\": \"DD14\", \"outcome_level\": 52.5, \"n\": \"10\"}, {\"category\": \"CC388\", \"level\": 1, \"outcome\": \"DD14\", \"outcome_level\": 53.5, \"n\": \"10\"}, {\"category\": \"CC388\", \"level\": 1, \"outcome\": \"DD14\", \"outcome_level\": 54.5, \"n\": \"1\"}, {\"category\": \"CC388\", \"level\": 1, \"outcome\": \"DD14\", \"outcome_level\": 55.5, \"n\": \"1\"}, {\"category\": \"CC388\", \"level\": 1, \"outcome\": \"DD14\", \"outcome_level\": 57.5, \"n\": \"1\"}, {\"category\": \"CC388\", \"level\": 1, \"outcome\": \"DD14\", \"outcome_level\": 0.0, \"n\": \"820\"}]}}, {\"mode\": \"vega-lite\"});\n",
       "</script>"
      ],
      "text/plain": [
       "alt.Chart(...)"
      ]
     },
     "execution_count": 29,
     "metadata": {},
     "output_type": "execute_result"
    }
   ],
   "source": [
    "import pandas as pd\n",
    "import altair as alt\n",
    "\n",
    "data = pd.read_csv(\"https://raw.githubusercontent.com/bbdataviz/ChildrenOutcomes/main/CC388-1-length-birth.csv\", parse_dates=['n'])\n",
    "\n",
    "alt.Chart(data \n",
    "    #title = alt.Title(\"Does Sunny Weather correlate with high Quality of Life (QOL)?\")\n",
    ").mark_area(point=True).encode(\n",
    "    alt.X('outcome_level:Q', title=\"Length [cm]\"),\n",
    "    alt.Y('n:Q', title=\"n\"),\n",
    "    #column=\"QOL\"\n",
    "    #color=alt.Color('QOL', scale=alt.Scale(scheme='plasma',reverse=False, domain=[3,8]), legend=alt.Legend(title=\"QOL\")), \n",
    "    #yellowgreenblue, plasma, viridis\n",
    "    #Color schemes: https://vega.github.io/vega/docs/schemes/\n",
    "    #tooltip=['City', 'Country', alt.Tooltip('Year', title='Sunhours per year'), 'QOL']\n",
    ").properties(\n",
    "    width=300,\n",
    "    height=300\n",
    ")"
   ]
  },
  {
   "cell_type": "code",
   "execution_count": 28,
   "metadata": {},
   "outputs": [
    {
     "data": {
      "text/html": [
       "\n",
       "<div id=\"altair-viz-ae45502aef0c40a7bd8d078ae36cdafd\"></div>\n",
       "<script type=\"text/javascript\">\n",
       "  (function(spec, embedOpt){\n",
       "    let outputDiv = document.currentScript.previousElementSibling;\n",
       "    if (outputDiv.id !== \"altair-viz-ae45502aef0c40a7bd8d078ae36cdafd\") {\n",
       "      outputDiv = document.getElementById(\"altair-viz-ae45502aef0c40a7bd8d078ae36cdafd\");\n",
       "    }\n",
       "    const paths = {\n",
       "      \"vega\": \"https://cdn.jsdelivr.net/npm//vega@5?noext\",\n",
       "      \"vega-lib\": \"https://cdn.jsdelivr.net/npm//vega-lib?noext\",\n",
       "      \"vega-lite\": \"https://cdn.jsdelivr.net/npm//vega-lite@4.8.1?noext\",\n",
       "      \"vega-embed\": \"https://cdn.jsdelivr.net/npm//vega-embed@6?noext\",\n",
       "    };\n",
       "\n",
       "    function loadScript(lib) {\n",
       "      return new Promise(function(resolve, reject) {\n",
       "        var s = document.createElement('script');\n",
       "        s.src = paths[lib];\n",
       "        s.async = true;\n",
       "        s.onload = () => resolve(paths[lib]);\n",
       "        s.onerror = () => reject(`Error loading script: ${paths[lib]}`);\n",
       "        document.getElementsByTagName(\"head\")[0].appendChild(s);\n",
       "      });\n",
       "    }\n",
       "\n",
       "    function showError(err) {\n",
       "      outputDiv.innerHTML = `<div class=\"error\" style=\"color:red;\">${err}</div>`;\n",
       "      throw err;\n",
       "    }\n",
       "\n",
       "    function displayChart(vegaEmbed) {\n",
       "      vegaEmbed(outputDiv, spec, embedOpt)\n",
       "        .catch(err => showError(`Javascript Error: ${err.message}<br>This usually means there's a typo in your chart specification. See the javascript console for the full traceback.`));\n",
       "    }\n",
       "\n",
       "    if(typeof define === \"function\" && define.amd) {\n",
       "      requirejs.config({paths});\n",
       "      require([\"vega-embed\"], displayChart, err => showError(`Error loading script: ${err.message}`));\n",
       "    } else if (typeof vegaEmbed === \"function\") {\n",
       "      displayChart(vegaEmbed);\n",
       "    } else {\n",
       "      loadScript(\"vega\")\n",
       "        .then(() => loadScript(\"vega-lite\"))\n",
       "        .then(() => loadScript(\"vega-embed\"))\n",
       "        .catch(showError)\n",
       "        .then(() => displayChart(vegaEmbed));\n",
       "    }\n",
       "  })({\"config\": {\"view\": {\"continuousWidth\": 400, \"continuousHeight\": 300}}, \"data\": {\"name\": \"data-f94349589ca24940c8f1afb9ace5b05a\"}, \"mark\": \"bar\", \"encoding\": {\"x\": {\"type\": \"quantitative\", \"field\": \"outcome_level\", \"title\": \"Length [cm]\"}, \"y\": {\"type\": \"quantitative\", \"field\": \"n\"}}, \"height\": 300, \"width\": 300, \"$schema\": \"https://vega.github.io/schema/vega-lite/v4.8.1.json\", \"datasets\": {\"data-f94349589ca24940c8f1afb9ace5b05a\": [{\"category\": \"CC388\", \"level\": 1, \"outcome\": \"DD14\", \"outcome_level\": 9.0, \"n\": \"1\"}, {\"category\": \"CC388\", \"level\": 1, \"outcome\": \"DD14\", \"outcome_level\": 26.0, \"n\": \"1\"}, {\"category\": \"CC388\", \"level\": 1, \"outcome\": \"DD14\", \"outcome_level\": 32.0, \"n\": \"1\"}, {\"category\": \"CC388\", \"level\": 1, \"outcome\": \"DD14\", \"outcome_level\": 33.0, \"n\": \"1\"}, {\"category\": \"CC388\", \"level\": 1, \"outcome\": \"DD14\", \"outcome_level\": 34.0, \"n\": \"1\"}, {\"category\": \"CC388\", \"level\": 1, \"outcome\": \"DD14\", \"outcome_level\": 35.0, \"n\": \"1\"}, {\"category\": \"CC388\", \"level\": 1, \"outcome\": \"DD14\", \"outcome_level\": 36.0, \"n\": \"1\"}, {\"category\": \"CC388\", \"level\": 1, \"outcome\": \"DD14\", \"outcome_level\": 37.0, \"n\": \"1\"}, {\"category\": \"CC388\", \"level\": 1, \"outcome\": \"DD14\", \"outcome_level\": 38.0, \"n\": \"1\"}, {\"category\": \"CC388\", \"level\": 1, \"outcome\": \"DD14\", \"outcome_level\": 39.0, \"n\": \"1\"}, {\"category\": \"CC388\", \"level\": 1, \"outcome\": \"DD14\", \"outcome_level\": 40.0, \"n\": \"10\"}, {\"category\": \"CC388\", \"level\": 1, \"outcome\": \"DD14\", \"outcome_level\": 41.0, \"n\": \"20\"}, {\"category\": \"CC388\", \"level\": 1, \"outcome\": \"DD14\", \"outcome_level\": 42.0, \"n\": \"20\"}, {\"category\": \"CC388\", \"level\": 1, \"outcome\": \"DD14\", \"outcome_level\": 43.0, \"n\": \"30\"}, {\"category\": \"CC388\", \"level\": 1, \"outcome\": \"DD14\", \"outcome_level\": 44.0, \"n\": \"50\"}, {\"category\": \"CC388\", \"level\": 1, \"outcome\": \"DD14\", \"outcome_level\": 45.0, \"n\": \"110\"}, {\"category\": \"CC388\", \"level\": 1, \"outcome\": \"DD14\", \"outcome_level\": 46.0, \"n\": \"170\"}, {\"category\": \"CC388\", \"level\": 1, \"outcome\": \"DD14\", \"outcome_level\": 47.0, \"n\": \"340\"}, {\"category\": \"CC388\", \"level\": 1, \"outcome\": \"DD14\", \"outcome_level\": 48.0, \"n\": \"600\"}, {\"category\": \"CC388\", \"level\": 1, \"outcome\": \"DD14\", \"outcome_level\": 49.0, \"n\": \"950\"}, {\"category\": \"CC388\", \"level\": 1, \"outcome\": \"DD14\", \"outcome_level\": 50.0, \"n\": \"1570\"}, {\"category\": \"CC388\", \"level\": 1, \"outcome\": \"DD14\", \"outcome_level\": 51.0, \"n\": \"1370\"}, {\"category\": \"CC388\", \"level\": 1, \"outcome\": \"DD14\", \"outcome_level\": 52.0, \"n\": \"1030\"}, {\"category\": \"CC388\", \"level\": 1, \"outcome\": \"DD14\", \"outcome_level\": 53.0, \"n\": \"640\"}, {\"category\": \"CC388\", \"level\": 1, \"outcome\": \"DD14\", \"outcome_level\": 54.0, \"n\": \"350\"}, {\"category\": \"CC388\", \"level\": 1, \"outcome\": \"DD14\", \"outcome_level\": 55.0, \"n\": \"110\"}, {\"category\": \"CC388\", \"level\": 1, \"outcome\": \"DD14\", \"outcome_level\": 56.0, \"n\": \"30\"}, {\"category\": \"CC388\", \"level\": 1, \"outcome\": \"DD14\", \"outcome_level\": 57.0, \"n\": \"10\"}, {\"category\": \"CC388\", \"level\": 1, \"outcome\": \"DD14\", \"outcome_level\": 58.0, \"n\": \"1\"}, {\"category\": \"CC388\", \"level\": 1, \"outcome\": \"DD14\", \"outcome_level\": 63.0, \"n\": \"1\"}, {\"category\": \"CC388\", \"level\": 1, \"outcome\": \"DD14\", \"outcome_level\": 70.0, \"n\": \"1\"}, {\"category\": \"CC388\", \"level\": 1, \"outcome\": \"DD14\", \"outcome_level\": 31.5, \"n\": \"1\"}, {\"category\": \"CC388\", \"level\": 1, \"outcome\": \"DD14\", \"outcome_level\": 34.5, \"n\": \"1\"}, {\"category\": \"CC388\", \"level\": 1, \"outcome\": \"DD14\", \"outcome_level\": 38.5, \"n\": \"1\"}, {\"category\": \"CC388\", \"level\": 1, \"outcome\": \"DD14\", \"outcome_level\": 39.5, \"n\": \"1\"}, {\"category\": \"CC388\", \"level\": 1, \"outcome\": \"DD14\", \"outcome_level\": 40.5, \"n\": \"1\"}, {\"category\": \"CC388\", \"level\": 1, \"outcome\": \"DD14\", \"outcome_level\": 41.5, \"n\": \"1\"}, {\"category\": \"CC388\", \"level\": 1, \"outcome\": \"DD14\", \"outcome_level\": 42.5, \"n\": \"1\"}, {\"category\": \"CC388\", \"level\": 1, \"outcome\": \"DD14\", \"outcome_level\": 43.5, \"n\": \"1\"}, {\"category\": \"CC388\", \"level\": 1, \"outcome\": \"DD14\", \"outcome_level\": 44.5, \"n\": \"1\"}, {\"category\": \"CC388\", \"level\": 1, \"outcome\": \"DD14\", \"outcome_level\": 45.5, \"n\": \"1\"}, {\"category\": \"CC388\", \"level\": 1, \"outcome\": \"DD14\", \"outcome_level\": 46.5, \"n\": \"1\"}, {\"category\": \"CC388\", \"level\": 1, \"outcome\": \"DD14\", \"outcome_level\": 47.5, \"n\": \"1\"}, {\"category\": \"CC388\", \"level\": 1, \"outcome\": \"DD14\", \"outcome_level\": 48.4, \"n\": \"1\"}, {\"category\": \"CC388\", \"level\": 1, \"outcome\": \"DD14\", \"outcome_level\": 48.5, \"n\": \"1\"}, {\"category\": \"CC388\", \"level\": 1, \"outcome\": \"DD14\", \"outcome_level\": 49.5, \"n\": \"10\"}, {\"category\": \"CC388\", \"level\": 1, \"outcome\": \"DD14\", \"outcome_level\": 49.9, \"n\": \"1\"}, {\"category\": \"CC388\", \"level\": 1, \"outcome\": \"DD14\", \"outcome_level\": 50.3, \"n\": \"1\"}, {\"category\": \"CC388\", \"level\": 1, \"outcome\": \"DD14\", \"outcome_level\": 50.5, \"n\": \"10\"}, {\"category\": \"CC388\", \"level\": 1, \"outcome\": \"DD14\", \"outcome_level\": 50.6, \"n\": \"1\"}, {\"category\": \"CC388\", \"level\": 1, \"outcome\": \"DD14\", \"outcome_level\": 51.5, \"n\": \"10\"}, {\"category\": \"CC388\", \"level\": 1, \"outcome\": \"DD14\", \"outcome_level\": 51.6, \"n\": \"1\"}, {\"category\": \"CC388\", \"level\": 1, \"outcome\": \"DD14\", \"outcome_level\": 52.3, \"n\": \"1\"}, {\"category\": \"CC388\", \"level\": 1, \"outcome\": \"DD14\", \"outcome_level\": 52.5, \"n\": \"10\"}, {\"category\": \"CC388\", \"level\": 1, \"outcome\": \"DD14\", \"outcome_level\": 53.5, \"n\": \"10\"}, {\"category\": \"CC388\", \"level\": 1, \"outcome\": \"DD14\", \"outcome_level\": 54.5, \"n\": \"1\"}, {\"category\": \"CC388\", \"level\": 1, \"outcome\": \"DD14\", \"outcome_level\": 55.5, \"n\": \"1\"}, {\"category\": \"CC388\", \"level\": 1, \"outcome\": \"DD14\", \"outcome_level\": 57.5, \"n\": \"1\"}, {\"category\": \"CC388\", \"level\": 1, \"outcome\": \"DD14\", \"outcome_level\": 0.0, \"n\": \"820\"}]}}, {\"mode\": \"vega-lite\"});\n",
       "</script>"
      ],
      "text/plain": [
       "alt.Chart(...)"
      ]
     },
     "execution_count": 28,
     "metadata": {},
     "output_type": "execute_result"
    }
   ],
   "source": [
    "import pandas as pd\n",
    "import altair as alt\n",
    "\n",
    "data = pd.read_csv(\"https://raw.githubusercontent.com/bbdataviz/ChildrenOutcomes/main/CC388-1-length-birth.csv\", parse_dates=['n'])\n",
    "\n",
    "alt.Chart(data).mark_bar().encode(\n",
    "    alt.X(\"outcome_level:Q\", title=\"Length [cm]\"),\n",
    "    alt.Y('n:Q'),\n",
    "    #column=\"QOL\"\n",
    "    #color=alt.Color('QOL', scale=alt.Scale(scheme='plasma',reverse=False, domain=[3,8]), legend=alt.Legend(title=\"QOL\")), \n",
    "    #yellowgreenblue, plasma, viridis\n",
    "    #Color schemes: https://vega.github.io/vega/docs/schemes/\n",
    "    #tooltip=['City', 'Country', alt.Tooltip('Year', title='Sunhours per year'), 'QOL']\n",
    ").properties(\n",
    "    width=300,\n",
    "    height=300\n",
    ")"
   ]
  }
 ],
 "metadata": {
  "kernelspec": {
   "display_name": "Python 3",
   "language": "python",
   "name": "python3"
  },
  "language_info": {
   "codemirror_mode": {
    "name": "ipython",
    "version": 3
   },
   "file_extension": ".py",
   "mimetype": "text/x-python",
   "name": "python",
   "nbconvert_exporter": "python",
   "pygments_lexer": "ipython3",
   "version": "3.6.7"
  }
 },
 "nbformat": 4,
 "nbformat_minor": 2
}
